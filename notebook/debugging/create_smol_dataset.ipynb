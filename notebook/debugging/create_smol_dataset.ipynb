{
 "cells": [
  {
   "cell_type": "code",
   "execution_count": 2,
   "metadata": {},
   "outputs": [],
   "source": [
    "import os \n",
    "\n",
    "import pandas as pd\n",
    "\n",
    "from saged import utils"
   ]
  },
  {
   "cell_type": "code",
   "execution_count": null,
   "metadata": {},
   "outputs": [],
   "source": [
    "data_dir = '../../data'"
   ]
  },
  {
   "cell_type": "code",
   "execution_count": 3,
   "metadata": {},
   "outputs": [],
   "source": [
    "df = pd.read_csv('../../data/tpm.tsv', sep='\\t')"
   ]
  },
  {
   "cell_type": "code",
   "execution_count": 4,
   "metadata": {},
   "outputs": [
    {
     "data": {
      "text/html": "<div>\n<style scoped>\n    .dataframe tbody tr th:only-of-type {\n        vertical-align: middle;\n    }\n\n    .dataframe tbody tr th {\n        vertical-align: top;\n    }\n\n    .dataframe thead th {\n        text-align: right;\n    }\n</style>\n<table border=\"1\" class=\"dataframe\">\n  <thead>\n    <tr style=\"text-align: right;\">\n      <th></th>\n      <th>study</th>\n      <th>ENSG00000140836.14</th>\n      <th>ENSG00000235293.1</th>\n      <th>ENSG00000174500.12</th>\n      <th>ENSG00000156413.13</th>\n      <th>ENSG00000120899.17</th>\n      <th>ENSG00000254683.1</th>\n      <th>ENSG00000254846.1</th>\n      <th>ENSG00000170581.13</th>\n      <th>ENSG00000231915.2</th>\n      <th>...</th>\n      <th>ENSG00000224520.2</th>\n      <th>ENSG00000106305.9</th>\n      <th>ENSG00000136240.9</th>\n      <th>ENSG00000164169.12</th>\n      <th>ENSG00000261367.1</th>\n      <th>ENSG00000240718.3</th>\n      <th>ENSG00000274319.1</th>\n      <th>ENSG00000230835.1</th>\n      <th>ENSG00000101333.16</th>\n      <th>ENSG00000275222.1</th>\n    </tr>\n  </thead>\n  <tbody>\n    <tr>\n      <th>0</th>\n      <td>SRR7252609</td>\n      <td>0.000396</td>\n      <td>0.000008</td>\n      <td>4.340187e-07</td>\n      <td>0.000362</td>\n      <td>2.681192e-08</td>\n      <td>0.000583</td>\n      <td>6.062284e-07</td>\n      <td>0.000059</td>\n      <td>0.000034</td>\n      <td>...</td>\n      <td>0.000064</td>\n      <td>0.000359</td>\n      <td>0.000158</td>\n      <td>0.000000e+00</td>\n      <td>0.0</td>\n      <td>2.932577e-07</td>\n      <td>1.926980e-07</td>\n      <td>0.000279</td>\n      <td>1.831754e-06</td>\n      <td>1.108714e-06</td>\n    </tr>\n    <tr>\n      <th>1</th>\n      <td>SRR7252610</td>\n      <td>0.000323</td>\n      <td>0.000006</td>\n      <td>9.555243e-07</td>\n      <td>0.000442</td>\n      <td>2.399790e-08</td>\n      <td>0.000654</td>\n      <td>1.222811e-06</td>\n      <td>0.000063</td>\n      <td>0.000032</td>\n      <td>...</td>\n      <td>0.000067</td>\n      <td>0.000322</td>\n      <td>0.000146</td>\n      <td>0.000000e+00</td>\n      <td>0.0</td>\n      <td>0.000000e+00</td>\n      <td>2.685409e-07</td>\n      <td>0.000289</td>\n      <td>2.140648e-06</td>\n      <td>1.264499e-06</td>\n    </tr>\n    <tr>\n      <th>2</th>\n      <td>SRR7252611</td>\n      <td>0.000254</td>\n      <td>0.000000</td>\n      <td>1.944401e-06</td>\n      <td>0.000276</td>\n      <td>0.000000e+00</td>\n      <td>0.000690</td>\n      <td>0.000000e+00</td>\n      <td>0.000232</td>\n      <td>0.000037</td>\n      <td>...</td>\n      <td>0.000061</td>\n      <td>0.000277</td>\n      <td>0.000119</td>\n      <td>2.076438e-08</td>\n      <td>0.0</td>\n      <td>8.314303e-08</td>\n      <td>2.984024e-07</td>\n      <td>0.000241</td>\n      <td>2.305358e-07</td>\n      <td>0.000000e+00</td>\n    </tr>\n    <tr>\n      <th>3</th>\n      <td>SRR7252612</td>\n      <td>0.000266</td>\n      <td>0.000002</td>\n      <td>1.120874e-06</td>\n      <td>0.000313</td>\n      <td>0.000000e+00</td>\n      <td>0.000659</td>\n      <td>0.000000e+00</td>\n      <td>0.000233</td>\n      <td>0.000034</td>\n      <td>...</td>\n      <td>0.000061</td>\n      <td>0.000291</td>\n      <td>0.000120</td>\n      <td>1.788705e-08</td>\n      <td>0.0</td>\n      <td>0.000000e+00</td>\n      <td>3.036564e-07</td>\n      <td>0.000278</td>\n      <td>4.244868e-06</td>\n      <td>2.570069e-06</td>\n    </tr>\n    <tr>\n      <th>4</th>\n      <td>SRR4098609</td>\n      <td>0.000180</td>\n      <td>0.000000</td>\n      <td>2.072681e-03</td>\n      <td>0.000878</td>\n      <td>3.453853e-07</td>\n      <td>0.000507</td>\n      <td>0.000000e+00</td>\n      <td>0.000023</td>\n      <td>0.000081</td>\n      <td>...</td>\n      <td>0.000084</td>\n      <td>0.000345</td>\n      <td>0.000271</td>\n      <td>0.000000e+00</td>\n      <td>0.0</td>\n      <td>0.000000e+00</td>\n      <td>0.000000e+00</td>\n      <td>0.000350</td>\n      <td>5.325025e-07</td>\n      <td>3.944536e-08</td>\n    </tr>\n  </tbody>\n</table>\n<p>5 rows × 5001 columns</p>\n</div>",
      "text/plain": "        study  ENSG00000140836.14  ENSG00000235293.1  ENSG00000174500.12  \\\n0  SRR7252609            0.000396           0.000008        4.340187e-07   \n1  SRR7252610            0.000323           0.000006        9.555243e-07   \n2  SRR7252611            0.000254           0.000000        1.944401e-06   \n3  SRR7252612            0.000266           0.000002        1.120874e-06   \n4  SRR4098609            0.000180           0.000000        2.072681e-03   \n\n   ENSG00000156413.13  ENSG00000120899.17  ENSG00000254683.1  \\\n0            0.000362        2.681192e-08           0.000583   \n1            0.000442        2.399790e-08           0.000654   \n2            0.000276        0.000000e+00           0.000690   \n3            0.000313        0.000000e+00           0.000659   \n4            0.000878        3.453853e-07           0.000507   \n\n   ENSG00000254846.1  ENSG00000170581.13  ENSG00000231915.2  ...  \\\n0       6.062284e-07            0.000059           0.000034  ...   \n1       1.222811e-06            0.000063           0.000032  ...   \n2       0.000000e+00            0.000232           0.000037  ...   \n3       0.000000e+00            0.000233           0.000034  ...   \n4       0.000000e+00            0.000023           0.000081  ...   \n\n   ENSG00000224520.2  ENSG00000106305.9  ENSG00000136240.9  \\\n0           0.000064           0.000359           0.000158   \n1           0.000067           0.000322           0.000146   \n2           0.000061           0.000277           0.000119   \n3           0.000061           0.000291           0.000120   \n4           0.000084           0.000345           0.000271   \n\n   ENSG00000164169.12  ENSG00000261367.1  ENSG00000240718.3  \\\n0        0.000000e+00                0.0       2.932577e-07   \n1        0.000000e+00                0.0       0.000000e+00   \n2        2.076438e-08                0.0       8.314303e-08   \n3        1.788705e-08                0.0       0.000000e+00   \n4        0.000000e+00                0.0       0.000000e+00   \n\n   ENSG00000274319.1  ENSG00000230835.1  ENSG00000101333.16  ENSG00000275222.1  \n0       1.926980e-07           0.000279        1.831754e-06       1.108714e-06  \n1       2.685409e-07           0.000289        2.140648e-06       1.264499e-06  \n2       2.984024e-07           0.000241        2.305358e-07       0.000000e+00  \n3       3.036564e-07           0.000278        4.244868e-06       2.570069e-06  \n4       0.000000e+00           0.000350        5.325025e-07       3.944536e-08  \n\n[5 rows x 5001 columns]"
     },
     "execution_count": 4,
     "metadata": {},
     "output_type": "execute_result"
    }
   ],
   "source": [
    "df.head()"
   ]
  },
  {
   "cell_type": "code",
   "execution_count": 5,
   "metadata": {},
   "outputs": [],
   "source": [
    "smol_df = df.sample(n=20, axis='rows')\n",
    "smol_df = smol_df.set_index('study')\n",
    "smol_df = smol_df.sample(frac=.1, axis='columns')"
   ]
  },
  {
   "cell_type": "code",
   "execution_count": 6,
   "metadata": {},
   "outputs": [
    {
     "data": {
      "text/html": "<div>\n<style scoped>\n    .dataframe tbody tr th:only-of-type {\n        vertical-align: middle;\n    }\n\n    .dataframe tbody tr th {\n        vertical-align: top;\n    }\n\n    .dataframe thead th {\n        text-align: right;\n    }\n</style>\n<table border=\"1\" class=\"dataframe\">\n  <thead>\n    <tr style=\"text-align: right;\">\n      <th></th>\n      <th>ENSG00000240624.1</th>\n      <th>ENSG00000271825.1</th>\n      <th>ENSG00000242154.1</th>\n      <th>ENSG00000277367.1</th>\n      <th>ENSG00000233336.1</th>\n      <th>ENSG00000247240.7</th>\n      <th>ENSG00000083290.19</th>\n      <th>ENSG00000250274.1</th>\n      <th>ENSG00000164885.12</th>\n      <th>ENSG00000250590.5</th>\n      <th>...</th>\n      <th>ENSG00000223728.3</th>\n      <th>ENSG00000207642.1</th>\n      <th>ENSG00000258958.1</th>\n      <th>ENSG00000269099.2</th>\n      <th>ENSG00000199231.1</th>\n      <th>ENSG00000239494.2</th>\n      <th>ENSG00000273849.1</th>\n      <th>ENSG00000253976.1</th>\n      <th>ENSG00000242493.3</th>\n      <th>ENSG00000133019.11</th>\n    </tr>\n    <tr>\n      <th>study</th>\n      <th></th>\n      <th></th>\n      <th></th>\n      <th></th>\n      <th></th>\n      <th></th>\n      <th></th>\n      <th></th>\n      <th></th>\n      <th></th>\n      <th></th>\n      <th></th>\n      <th></th>\n      <th></th>\n      <th></th>\n      <th></th>\n      <th></th>\n      <th></th>\n      <th></th>\n      <th></th>\n      <th></th>\n    </tr>\n  </thead>\n  <tbody>\n    <tr>\n      <th>ERR2702033</th>\n      <td>0.0</td>\n      <td>0.000000</td>\n      <td>0.000000e+00</td>\n      <td>0.000000</td>\n      <td>0.000704</td>\n      <td>0.000000</td>\n      <td>0.0</td>\n      <td>0.000000</td>\n      <td>0.0</td>\n      <td>0.000149</td>\n      <td>...</td>\n      <td>0.000646</td>\n      <td>0.000000</td>\n      <td>0.0</td>\n      <td>0.0</td>\n      <td>0.000000</td>\n      <td>0.000000</td>\n      <td>0.000000e+00</td>\n      <td>0.0</td>\n      <td>0.0</td>\n      <td>0.0</td>\n    </tr>\n    <tr>\n      <th>SRR4456628</th>\n      <td>0.0</td>\n      <td>0.000000</td>\n      <td>0.000000e+00</td>\n      <td>0.000000</td>\n      <td>0.006209</td>\n      <td>0.000000</td>\n      <td>0.0</td>\n      <td>0.000611</td>\n      <td>0.0</td>\n      <td>0.000000</td>\n      <td>...</td>\n      <td>0.000000</td>\n      <td>0.000000</td>\n      <td>0.0</td>\n      <td>0.0</td>\n      <td>0.000000</td>\n      <td>0.013211</td>\n      <td>0.000000e+00</td>\n      <td>0.0</td>\n      <td>0.0</td>\n      <td>0.0</td>\n    </tr>\n    <tr>\n      <th>ERR2142333</th>\n      <td>0.0</td>\n      <td>0.000000</td>\n      <td>0.000000e+00</td>\n      <td>0.000000</td>\n      <td>0.000000</td>\n      <td>0.000000</td>\n      <td>0.0</td>\n      <td>0.000000</td>\n      <td>0.0</td>\n      <td>0.000000</td>\n      <td>...</td>\n      <td>0.002214</td>\n      <td>0.000000</td>\n      <td>0.0</td>\n      <td>0.0</td>\n      <td>0.000000</td>\n      <td>0.001448</td>\n      <td>0.000000e+00</td>\n      <td>0.0</td>\n      <td>0.0</td>\n      <td>0.0</td>\n    </tr>\n    <tr>\n      <th>SRR8908726</th>\n      <td>0.0</td>\n      <td>0.000004</td>\n      <td>1.804010e-05</td>\n      <td>0.000059</td>\n      <td>0.001625</td>\n      <td>0.000003</td>\n      <td>0.0</td>\n      <td>0.000000</td>\n      <td>0.0</td>\n      <td>0.000000</td>\n      <td>...</td>\n      <td>0.000710</td>\n      <td>0.000010</td>\n      <td>0.0</td>\n      <td>0.0</td>\n      <td>0.000039</td>\n      <td>0.000000</td>\n      <td>0.000000e+00</td>\n      <td>0.0</td>\n      <td>0.0</td>\n      <td>0.0</td>\n    </tr>\n    <tr>\n      <th>SRR3471095</th>\n      <td>0.0</td>\n      <td>0.000000</td>\n      <td>3.937232e-07</td>\n      <td>0.000000</td>\n      <td>0.002694</td>\n      <td>0.000005</td>\n      <td>0.0</td>\n      <td>0.000005</td>\n      <td>0.0</td>\n      <td>0.000007</td>\n      <td>...</td>\n      <td>0.000204</td>\n      <td>0.000004</td>\n      <td>0.0</td>\n      <td>0.0</td>\n      <td>0.000016</td>\n      <td>0.002344</td>\n      <td>8.060758e-07</td>\n      <td>0.0</td>\n      <td>0.0</td>\n      <td>0.0</td>\n    </tr>\n  </tbody>\n</table>\n<p>5 rows × 500 columns</p>\n</div>",
      "text/plain": "            ENSG00000240624.1  ENSG00000271825.1  ENSG00000242154.1  \\\nstudy                                                                 \nERR2702033                0.0           0.000000       0.000000e+00   \nSRR4456628                0.0           0.000000       0.000000e+00   \nERR2142333                0.0           0.000000       0.000000e+00   \nSRR8908726                0.0           0.000004       1.804010e-05   \nSRR3471095                0.0           0.000000       3.937232e-07   \n\n            ENSG00000277367.1  ENSG00000233336.1  ENSG00000247240.7  \\\nstudy                                                                 \nERR2702033           0.000000           0.000704           0.000000   \nSRR4456628           0.000000           0.006209           0.000000   \nERR2142333           0.000000           0.000000           0.000000   \nSRR8908726           0.000059           0.001625           0.000003   \nSRR3471095           0.000000           0.002694           0.000005   \n\n            ENSG00000083290.19  ENSG00000250274.1  ENSG00000164885.12  \\\nstudy                                                                   \nERR2702033                 0.0           0.000000                 0.0   \nSRR4456628                 0.0           0.000611                 0.0   \nERR2142333                 0.0           0.000000                 0.0   \nSRR8908726                 0.0           0.000000                 0.0   \nSRR3471095                 0.0           0.000005                 0.0   \n\n            ENSG00000250590.5  ...  ENSG00000223728.3  ENSG00000207642.1  \\\nstudy                          ...                                         \nERR2702033           0.000149  ...           0.000646           0.000000   \nSRR4456628           0.000000  ...           0.000000           0.000000   \nERR2142333           0.000000  ...           0.002214           0.000000   \nSRR8908726           0.000000  ...           0.000710           0.000010   \nSRR3471095           0.000007  ...           0.000204           0.000004   \n\n            ENSG00000258958.1  ENSG00000269099.2  ENSG00000199231.1  \\\nstudy                                                                 \nERR2702033                0.0                0.0           0.000000   \nSRR4456628                0.0                0.0           0.000000   \nERR2142333                0.0                0.0           0.000000   \nSRR8908726                0.0                0.0           0.000039   \nSRR3471095                0.0                0.0           0.000016   \n\n            ENSG00000239494.2  ENSG00000273849.1  ENSG00000253976.1  \\\nstudy                                                                 \nERR2702033           0.000000       0.000000e+00                0.0   \nSRR4456628           0.013211       0.000000e+00                0.0   \nERR2142333           0.001448       0.000000e+00                0.0   \nSRR8908726           0.000000       0.000000e+00                0.0   \nSRR3471095           0.002344       8.060758e-07                0.0   \n\n            ENSG00000242493.3  ENSG00000133019.11  \nstudy                                              \nERR2702033                0.0                 0.0  \nSRR4456628                0.0                 0.0  \nERR2142333                0.0                 0.0  \nSRR8908726                0.0                 0.0  \nSRR3471095                0.0                 0.0  \n\n[5 rows x 500 columns]"
     },
     "execution_count": 6,
     "metadata": {},
     "output_type": "execute_result"
    }
   ],
   "source": [
    "smol_df.head()"
   ]
  },
  {
   "cell_type": "code",
   "execution_count": 82,
   "metadata": {},
   "outputs": [],
   "source": [
    "smol_df.to_csv(os.path.join(data_dir, 'smol_dataset.tsv'), sep='\\t')"
   ]
  },
  {
   "cell_type": "code",
   "execution_count": null,
   "metadata": {},
   "outputs": [],
   "source": []
  }
 ],
 "metadata": {
  "kernelspec": {
   "display_name": "saged",
   "language": "python",
   "name": "saged"
  },
  "language_info": {
   "codemirror_mode": {
    "name": "ipython",
    "version": 3
   },
   "file_extension": ".py",
   "mimetype": "text/x-python",
   "name": "python",
   "nbconvert_exporter": "python",
   "pygments_lexer": "ipython3",
   "version": "3.7.10"
  }
 },
 "nbformat": 4,
 "nbformat_minor": 4
}