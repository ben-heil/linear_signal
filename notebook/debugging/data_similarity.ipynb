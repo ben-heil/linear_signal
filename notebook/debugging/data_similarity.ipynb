{
 "cells": [
  {
   "cell_type": "markdown",
   "metadata": {},
   "source": [
    "# Data Similarity\n",
    "Previous experiments have had some strange results, with models occasionally performing abnormally well (or badly) on the out of sample set. To make sure that there are no duplicate samples or abnormally similar studies, I made this notebook"
   ]
  },
  {
   "cell_type": "code",
   "execution_count": 1,
   "metadata": {},
   "outputs": [],
   "source": [
    "import json\n",
    "\n",
    "import matplotlib.pyplot as plt\n",
    "import numpy as np\n",
    "import pandas as pd\n",
    "import yaml\n",
    "from plotnine import *\n",
    "from sklearn.metrics.pairwise import euclidean_distances\n",
    "\n",
    "from saged import utils, datasets, models"
   ]
  },
  {
   "cell_type": "markdown",
   "metadata": {},
   "source": [
    "## Load the data"
   ]
  },
  {
   "cell_type": "code",
   "execution_count": 2,
   "metadata": {},
   "outputs": [],
   "source": [
    "dataset_config_file = '../../dataset_configs/refinebio_labeled_dataset.yml'"
   ]
  },
  {
   "cell_type": "code",
   "execution_count": 3,
   "metadata": {},
   "outputs": [],
   "source": [
    "dataset_config_str = \"\"\"name: \"RefineBioMixedDataset\"\n",
    "compendium_path: \"../../data/subset_compendium.pkl\"\n",
    "metadata_path: \"../../data/aggregated_metadata.json\"\n",
    "label_path: \"../../data/sample_classifications.pkl\"\n",
    "\"\"\"\n",
    "dataset_config = yaml.safe_load(dataset_config_str)\n",
    "\n",
    "dataset_name = dataset_config.pop('name')                                   \n",
    "MixedDatasetClass = datasets.RefineBioMixedDataset                                \n",
    "\n",
    "all_data = MixedDatasetClass.from_config(**dataset_config)                                              "
   ]
  },
  {
   "cell_type": "markdown",
   "metadata": {},
   "source": [
    "## Look for samples that are very similar to each other despite having different IDs"
   ]
  },
  {
   "cell_type": "code",
   "execution_count": 4,
   "metadata": {},
   "outputs": [
    {
     "data": {
      "text/plain": [
       "['E-MEXP-1635-04SE57HA300104',\n",
       " 'E-MEXP-1635-04SE58HA300104',\n",
       " 'E-MEXP-1635-04SE59HA300104',\n",
       " 'E-MEXP-1635-04SE60HA300104',\n",
       " 'E-MEXP-1635-04SE61HA300104']"
      ]
     },
     "execution_count": 4,
     "metadata": {},
     "output_type": "execute_result"
    }
   ],
   "source": [
    "sample_names = all_data.get_samples()\n",
    "assert len(sample_names) == len(set(sample_names))\n",
    "\n",
    "sample_names[:5]"
   ]
  },
  {
   "cell_type": "code",
   "execution_count": 5,
   "metadata": {},
   "outputs": [
    {
     "name": "stdout",
     "output_type": "stream",
     "text": [
      "10234\n",
      "(10234, 14634)\n"
     ]
    }
   ],
   "source": [
    "expression = all_data.get_all_data()\n",
    "print(len(sample_names))\n",
    "print(expression.shape)"
   ]
  },
  {
   "cell_type": "code",
   "execution_count": 6,
   "metadata": {},
   "outputs": [],
   "source": [
    "sample_distance_matrix = euclidean_distances(expression, expression)\n",
    "\n",
    "# This is unrelated to debugging the data, I'm just curious\n",
    "gene_distance_matrix = euclidean_distances(expression.T, expression.T)"
   ]
  },
  {
   "cell_type": "code",
   "execution_count": 7,
   "metadata": {},
   "outputs": [
    {
     "data": {
      "text/plain": [
       "(10234, 10234)"
      ]
     },
     "execution_count": 7,
     "metadata": {},
     "output_type": "execute_result"
    }
   ],
   "source": [
    "sample_distance_matrix.shape"
   ]
  },
  {
   "cell_type": "code",
   "execution_count": 8,
   "metadata": {},
   "outputs": [
    {
     "data": {
      "text/plain": [
       "array([[  0.        , 229.63496006, 191.61807908, ..., 984.98342017,\n",
       "        983.67034522, 984.50678247],\n",
       "       [229.63496006,   0.        , 205.46212241, ..., 971.16646894,\n",
       "        972.81012493, 973.62206   ],\n",
       "       [191.61807908, 205.46212241,   0.        , ..., 989.74575342,\n",
       "        982.17915443, 982.92785284],\n",
       "       ...,\n",
       "       [984.98342017, 971.16646894, 989.74575342, ...,   0.        ,\n",
       "        295.89958742, 300.01987743],\n",
       "       [983.67034522, 972.81012493, 982.17915443, ..., 295.89958742,\n",
       "          0.        ,  84.20189072],\n",
       "       [984.50678247, 973.62206   , 982.92785284, ..., 300.01987743,\n",
       "         84.20189072,   0.        ]])"
      ]
     },
     "execution_count": 8,
     "metadata": {},
     "output_type": "execute_result"
    }
   ],
   "source": [
    "sample_distance_matrix"
   ]
  },
  {
   "cell_type": "code",
   "execution_count": 9,
   "metadata": {},
   "outputs": [
    {
     "data": {
      "text/plain": [
       "11482"
      ]
     },
     "execution_count": 9,
     "metadata": {},
     "output_type": "execute_result"
    }
   ],
   "source": [
    "# See if there are any zero distances outside the diagonal\n",
    "num_zeros = 10234 * 10234 - np.count_nonzero(sample_distance_matrix)\n",
    "num_zeros"
   ]
  },
  {
   "cell_type": "markdown",
   "metadata": {},
   "source": [
    "Since there are as many zeros as elements in the diagonal, there are no duplicate samples with different IDs (unless noise was added somewhere)"
   ]
  },
  {
   "cell_type": "markdown",
   "metadata": {},
   "source": [
    "### Get all distances\n",
    "Because we know there aren't any zeros outside of the diagonal, we can zero out the lower diagonal and use the the non-zero entries of the upper diagonal to visualize the distance distribution"
   ]
  },
  {
   "cell_type": "code",
   "execution_count": 10,
   "metadata": {},
   "outputs": [
    {
     "data": {
      "text/plain": [
       "array([[  0.        , 229.63496006, 191.61807908, ..., 984.98342017,\n",
       "        983.67034522, 984.50678247],\n",
       "       [  0.        ,   0.        , 205.46212241, ..., 971.16646894,\n",
       "        972.81012493, 973.62206   ],\n",
       "       [  0.        ,   0.        ,   0.        , ..., 989.74575342,\n",
       "        982.17915443, 982.92785284],\n",
       "       ...,\n",
       "       [  0.        ,   0.        ,   0.        , ...,   0.        ,\n",
       "        295.89958742, 300.01987743],\n",
       "       [  0.        ,   0.        ,   0.        , ...,   0.        ,\n",
       "          0.        ,  84.20189072],\n",
       "       [  0.        ,   0.        ,   0.        , ...,   0.        ,\n",
       "          0.        ,   0.        ]])"
      ]
     },
     "execution_count": 10,
     "metadata": {},
     "output_type": "execute_result"
    }
   ],
   "source": [
    "triangle = np.triu(sample_distance_matrix, k=0)\n",
    "triangle"
   ]
  },
  {
   "cell_type": "code",
   "execution_count": 11,
   "metadata": {},
   "outputs": [
    {
     "data": {
      "text/plain": [
       "(52361637,)"
      ]
     },
     "execution_count": 11,
     "metadata": {},
     "output_type": "execute_result"
    }
   ],
   "source": [
    "distances = triangle.flatten()\n",
    "nonzero_distances = distances[distances != 0]\n",
    "nonzero_distances.shape"
   ]
  },
  {
   "cell_type": "code",
   "execution_count": 12,
   "metadata": {},
   "outputs": [
    {
     "data": {
      "text/plain": [
       "(array([5.710000e+02, 7.720000e+02, 8.054400e+04, 4.605460e+05,\n",
       "        7.881420e+05, 1.114666e+06, 1.785935e+06, 2.699122e+06,\n",
       "        4.145183e+06, 5.465716e+06, 5.652437e+06, 7.015105e+06,\n",
       "        8.281112e+06, 6.125347e+06, 2.501016e+06, 7.155610e+05,\n",
       "        2.119000e+05, 7.199500e+04, 8.373440e+05, 4.408623e+06]),\n",
       " array([1.52587891e-05, 6.58408973e+01, 1.31681779e+02, 1.97522661e+02,\n",
       "        2.63363543e+02, 3.29204425e+02, 3.95045307e+02, 4.60886189e+02,\n",
       "        5.26727071e+02, 5.92567953e+02, 6.58408835e+02, 7.24249717e+02,\n",
       "        7.90090599e+02, 8.55931481e+02, 9.21772363e+02, 9.87613245e+02,\n",
       "        1.05345413e+03, 1.11929501e+03, 1.18513589e+03, 1.25097677e+03,\n",
       "        1.31681766e+03]),\n",
       " <BarContainer object of 20 artists>)"
      ]
     },
     "execution_count": 12,
     "metadata": {},
     "output_type": "execute_result"
    },
    {
     "data": {
      "image/png": "[encoded data removed]",
      "text/plain": [
       "<Figure size 432x288 with 1 Axes>"
      ]
     },
     "metadata": {
      "needs_background": "light"
     },
     "output_type": "display_data"
    }
   ],
   "source": [
    "plt.hist(nonzero_distances, bins=20)"
   ]
  },
  {
   "cell_type": "markdown",
   "metadata": {},
   "source": [
    "Distribution looks bimodal, probably due to different platforms having different distances from each other?"
   ]
  },
  {
   "cell_type": "code",
   "execution_count": 13,
   "metadata": {},
   "outputs": [
    {
     "data": {
      "text/plain": [
       "(array([4.3300e+02, 9.7000e+01, 2.8000e+01, 5.6000e+01, 1.1900e+02,\n",
       "        2.2800e+02, 1.1370e+03, 6.8010e+03, 2.4725e+04, 5.7456e+04]),\n",
       " array([1.52587891e-05, 2.00000013e+01, 3.99999874e+01, 5.99999735e+01,\n",
       "        7.99999595e+01, 9.99999456e+01, 1.19999932e+02, 1.39999918e+02,\n",
       "        1.59999904e+02, 1.79999890e+02, 1.99999876e+02]),\n",
       " <BarContainer object of 10 artists>)"
      ]
     },
     "execution_count": 13,
     "metadata": {},
     "output_type": "execute_result"
    },
    {
     "data": {
      "image/png": "[encoded data removed]",
      "text/plain": [
       "<Figure size 432x288 with 1 Axes>"
      ]
     },
     "metadata": {
      "needs_background": "light"
     },
     "output_type": "display_data"
    }
   ],
   "source": [
    "plt.hist(nonzero_distances[nonzero_distances < 200])"
   ]
  },
  {
   "cell_type": "code",
   "execution_count": 14,
   "metadata": {},
   "outputs": [
    {
     "data": {
      "text/plain": [
       "(array([ 68., 365.,  72.,  25.,   8.,  20.,  23.,  33.,  56.,  63.]),\n",
       " array([1.52587891e-05, 9.98772786e+00, 1.99754405e+01, 2.99631531e+01,\n",
       "        3.99508656e+01, 4.99385782e+01, 5.99262908e+01, 6.99140034e+01,\n",
       "        7.99017160e+01, 8.98894286e+01, 9.98771412e+01]),\n",
       " <BarContainer object of 10 artists>)"
      ]
     },
     "execution_count": 14,
     "metadata": {},
     "output_type": "execute_result"
    },
    {
     "data": {
      "image/png": "[encoded data removed]",
      "text/plain": [
       "<Figure size 432x288 with 1 Axes>"
      ]
     },
     "metadata": {
      "needs_background": "light"
     },
     "output_type": "display_data"
    }
   ],
   "source": [
    "plt.hist(nonzero_distances[nonzero_distances < 100])"
   ]
  },
  {
   "cell_type": "markdown",
   "metadata": {},
   "source": [
    "Looks like there may be some samples that are abnormally close to each other. I wonder whether they're in the same study"
   ]
  },
  {
   "cell_type": "markdown",
   "metadata": {},
   "source": [
    "## Correspondence between distance and study"
   ]
  },
  {
   "cell_type": "code",
   "execution_count": 15,
   "metadata": {},
   "outputs": [],
   "source": [
    "# There is almost certainly a vectorized way of doing this but oh well\n",
    "distances = []\n",
    "first_samples = []\n",
    "second_samples = []\n",
    "\n",
    "for row_index in range(sample_distance_matrix.shape[0]):\n",
    "    for col_index in range(sample_distance_matrix.shape[0]):\n",
    "        distance = sample_distance_matrix[row_index, col_index]\n",
    "        if distance == 0:\n",
    "            continue\n",
    "        distances.append(distance)\n",
    "        first_samples.append(sample_names[row_index])\n",
    "        second_samples.append(sample_names[col_index])"
   ]
  },
  {
   "cell_type": "code",
   "execution_count": 16,
   "metadata": {},
   "outputs": [],
   "source": [
    "distance_df = pd.DataFrame({'distance': distances, 'sample_1': first_samples,\n",
    "                            'sample_2': second_samples})"
   ]
  },
  {
   "cell_type": "code",
   "execution_count": 17,
   "metadata": {},
   "outputs": [],
   "source": [
    "# Free up memory to prevent swapping (probably hopeless if the user has < 32GB)\n",
    "del(triangle)\n",
    "del(sample_distance_matrix)\n",
    "del(distances)\n",
    "del(first_samples)\n",
    "del(second_samples)\n",
    "del(nonzero_distances)"
   ]
  },
  {
   "cell_type": "code",
   "execution_count": 18,
   "metadata": {},
   "outputs": [
    {
     "data": {
      "text/html": [
       "<div>\n",
       "<style scoped>\n",
       "    .dataframe tbody tr th:only-of-type {\n",
       "        vertical-align: middle;\n",
       "    }\n",
       "\n",
       "    .dataframe tbody tr th {\n",
       "        vertical-align: top;\n",
       "    }\n",
       "\n",
       "    .dataframe thead th {\n",
       "        text-align: right;\n",
       "    }\n",
       "</style>\n",
       "<table border=\"1\" class=\"dataframe\">\n",
       "  <thead>\n",
       "    <tr style=\"text-align: right;\">\n",
       "      <th></th>\n",
       "      <th>distance</th>\n",
       "      <th>sample_1</th>\n",
       "      <th>sample_2</th>\n",
       "    </tr>\n",
       "  </thead>\n",
       "  <tbody>\n",
       "    <tr>\n",
       "      <th>0</th>\n",
       "      <td>229.634960</td>\n",
       "      <td>E-MEXP-1635-04SE57HA300104</td>\n",
       "      <td>E-MEXP-1635-04SE58HA300104</td>\n",
       "    </tr>\n",
       "    <tr>\n",
       "      <th>1</th>\n",
       "      <td>191.618079</td>\n",
       "      <td>E-MEXP-1635-04SE57HA300104</td>\n",
       "      <td>E-MEXP-1635-04SE59HA300104</td>\n",
       "    </tr>\n",
       "    <tr>\n",
       "      <th>2</th>\n",
       "      <td>206.978541</td>\n",
       "      <td>E-MEXP-1635-04SE57HA300104</td>\n",
       "      <td>E-MEXP-1635-04SE60HA300104</td>\n",
       "    </tr>\n",
       "    <tr>\n",
       "      <th>3</th>\n",
       "      <td>240.195692</td>\n",
       "      <td>E-MEXP-1635-04SE57HA300104</td>\n",
       "      <td>E-MEXP-1635-04SE61HA300104</td>\n",
       "    </tr>\n",
       "    <tr>\n",
       "      <th>4</th>\n",
       "      <td>271.821417</td>\n",
       "      <td>E-MEXP-1635-04SE57HA300104</td>\n",
       "      <td>E-MEXP-1635-04SE62HA300104</td>\n",
       "    </tr>\n",
       "    <tr>\n",
       "      <th>...</th>\n",
       "      <td>...</td>\n",
       "      <td>...</td>\n",
       "      <td>...</td>\n",
       "    </tr>\n",
       "    <tr>\n",
       "      <th>104723269</th>\n",
       "      <td>411.460941</td>\n",
       "      <td>SRR6870402</td>\n",
       "      <td>SRR6870397</td>\n",
       "    </tr>\n",
       "    <tr>\n",
       "      <th>104723270</th>\n",
       "      <td>407.601098</td>\n",
       "      <td>SRR6870402</td>\n",
       "      <td>SRR6870398</td>\n",
       "    </tr>\n",
       "    <tr>\n",
       "      <th>104723271</th>\n",
       "      <td>301.214339</td>\n",
       "      <td>SRR6870402</td>\n",
       "      <td>SRR6870399</td>\n",
       "    </tr>\n",
       "    <tr>\n",
       "      <th>104723272</th>\n",
       "      <td>300.019877</td>\n",
       "      <td>SRR6870402</td>\n",
       "      <td>SRR6870400</td>\n",
       "    </tr>\n",
       "    <tr>\n",
       "      <th>104723273</th>\n",
       "      <td>84.201891</td>\n",
       "      <td>SRR6870402</td>\n",
       "      <td>SRR6870401</td>\n",
       "    </tr>\n",
       "  </tbody>\n",
       "</table>\n",
       "<p>104723274 rows × 3 columns</p>\n",
       "</div>"
      ],
      "text/plain": [
       "             distance                    sample_1                    sample_2\n",
       "0          229.634960  E-MEXP-1635-04SE57HA300104  E-MEXP-1635-04SE58HA300104\n",
       "1          191.618079  E-MEXP-1635-04SE57HA300104  E-MEXP-1635-04SE59HA300104\n",
       "2          206.978541  E-MEXP-1635-04SE57HA300104  E-MEXP-1635-04SE60HA300104\n",
       "3          240.195692  E-MEXP-1635-04SE57HA300104  E-MEXP-1635-04SE61HA300104\n",
       "4          271.821417  E-MEXP-1635-04SE57HA300104  E-MEXP-1635-04SE62HA300104\n",
       "...               ...                         ...                         ...\n",
       "104723269  411.460941                  SRR6870402                  SRR6870397\n",
       "104723270  407.601098                  SRR6870402                  SRR6870398\n",
       "104723271  301.214339                  SRR6870402                  SRR6870399\n",
       "104723272  300.019877                  SRR6870402                  SRR6870400\n",
       "104723273   84.201891                  SRR6870402                  SRR6870401\n",
       "\n",
       "[104723274 rows x 3 columns]"
      ]
     },
     "execution_count": 18,
     "metadata": {},
     "output_type": "execute_result"
    }
   ],
   "source": [
    "distance_df"
   ]
  },
  {
   "cell_type": "code",
   "execution_count": 19,
   "metadata": {},
   "outputs": [],
   "source": [
    "sample_to_study = all_data.sample_to_study"
   ]
  },
  {
   "cell_type": "code",
   "execution_count": 20,
   "metadata": {},
   "outputs": [],
   "source": [
    "del(all_data)"
   ]
  },
  {
   "cell_type": "code",
   "execution_count": 21,
   "metadata": {},
   "outputs": [],
   "source": [
    "distance_df['study_1'] = distance_df['sample_1'].map(sample_to_study)\n",
    "distance_df['study_2'] = distance_df['sample_2'].map(sample_to_study)\n",
    "distance_df['same_study'] = distance_df['study_1'] == distance_df['study_2']"
   ]
  },
  {
   "cell_type": "code",
   "execution_count": 22,
   "metadata": {},
   "outputs": [
    {
     "data": {
      "text/html": [
       "<div>\n",
       "<style scoped>\n",
       "    .dataframe tbody tr th:only-of-type {\n",
       "        vertical-align: middle;\n",
       "    }\n",
       "\n",
       "    .dataframe tbody tr th {\n",
       "        vertical-align: top;\n",
       "    }\n",
       "\n",
       "    .dataframe thead th {\n",
       "        text-align: right;\n",
       "    }\n",
       "</style>\n",
       "<table border=\"1\" class=\"dataframe\">\n",
       "  <thead>\n",
       "    <tr style=\"text-align: right;\">\n",
       "      <th></th>\n",
       "      <th>distance</th>\n",
       "      <th>sample_1</th>\n",
       "      <th>sample_2</th>\n",
       "      <th>study_1</th>\n",
       "      <th>study_2</th>\n",
       "      <th>same_study</th>\n",
       "    </tr>\n",
       "  </thead>\n",
       "  <tbody>\n",
       "    <tr>\n",
       "      <th>0</th>\n",
       "      <td>229.634960</td>\n",
       "      <td>E-MEXP-1635-04SE57HA300104</td>\n",
       "      <td>E-MEXP-1635-04SE58HA300104</td>\n",
       "      <td>E-MEXP-1635</td>\n",
       "      <td>E-MEXP-1635</td>\n",
       "      <td>True</td>\n",
       "    </tr>\n",
       "    <tr>\n",
       "      <th>1</th>\n",
       "      <td>191.618079</td>\n",
       "      <td>E-MEXP-1635-04SE57HA300104</td>\n",
       "      <td>E-MEXP-1635-04SE59HA300104</td>\n",
       "      <td>E-MEXP-1635</td>\n",
       "      <td>E-MEXP-1635</td>\n",
       "      <td>True</td>\n",
       "    </tr>\n",
       "    <tr>\n",
       "      <th>2</th>\n",
       "      <td>206.978541</td>\n",
       "      <td>E-MEXP-1635-04SE57HA300104</td>\n",
       "      <td>E-MEXP-1635-04SE60HA300104</td>\n",
       "      <td>E-MEXP-1635</td>\n",
       "      <td>E-MEXP-1635</td>\n",
       "      <td>True</td>\n",
       "    </tr>\n",
       "    <tr>\n",
       "      <th>3</th>\n",
       "      <td>240.195692</td>\n",
       "      <td>E-MEXP-1635-04SE57HA300104</td>\n",
       "      <td>E-MEXP-1635-04SE61HA300104</td>\n",
       "      <td>E-MEXP-1635</td>\n",
       "      <td>E-MEXP-1635</td>\n",
       "      <td>True</td>\n",
       "    </tr>\n",
       "    <tr>\n",
       "      <th>4</th>\n",
       "      <td>271.821417</td>\n",
       "      <td>E-MEXP-1635-04SE57HA300104</td>\n",
       "      <td>E-MEXP-1635-04SE62HA300104</td>\n",
       "      <td>E-MEXP-1635</td>\n",
       "      <td>E-MEXP-1635</td>\n",
       "      <td>True</td>\n",
       "    </tr>\n",
       "  </tbody>\n",
       "</table>\n",
       "</div>"
      ],
      "text/plain": [
       "     distance                    sample_1                    sample_2  \\\n",
       "0  229.634960  E-MEXP-1635-04SE57HA300104  E-MEXP-1635-04SE58HA300104   \n",
       "1  191.618079  E-MEXP-1635-04SE57HA300104  E-MEXP-1635-04SE59HA300104   \n",
       "2  206.978541  E-MEXP-1635-04SE57HA300104  E-MEXP-1635-04SE60HA300104   \n",
       "3  240.195692  E-MEXP-1635-04SE57HA300104  E-MEXP-1635-04SE61HA300104   \n",
       "4  271.821417  E-MEXP-1635-04SE57HA300104  E-MEXP-1635-04SE62HA300104   \n",
       "\n",
       "       study_1      study_2  same_study  \n",
       "0  E-MEXP-1635  E-MEXP-1635        True  \n",
       "1  E-MEXP-1635  E-MEXP-1635        True  \n",
       "2  E-MEXP-1635  E-MEXP-1635        True  \n",
       "3  E-MEXP-1635  E-MEXP-1635        True  \n",
       "4  E-MEXP-1635  E-MEXP-1635        True  "
      ]
     },
     "execution_count": 22,
     "metadata": {},
     "output_type": "execute_result"
    }
   ],
   "source": [
    "distance_df.head()"
   ]
  },
  {
   "cell_type": "code",
   "execution_count": 23,
   "metadata": {},
   "outputs": [
    {
     "name": "stdout",
     "output_type": "stream",
     "text": [
      "104723274\n"
     ]
    }
   ],
   "source": [
    "print(len(distance_df))"
   ]
  },
  {
   "cell_type": "markdown",
   "metadata": {},
   "source": [
    "For some reason my computer didn't want me to make a figure with 50 million points. We'll work with means instead"
   ]
  },
  {
   "cell_type": "code",
   "execution_count": 24,
   "metadata": {},
   "outputs": [],
   "source": [
    "means_df = distance_df.groupby(['study_1', 'same_study']).mean()"
   ]
  },
  {
   "cell_type": "code",
   "execution_count": 25,
   "metadata": {},
   "outputs": [
    {
     "data": {
      "text/html": [
       "<div>\n",
       "<style scoped>\n",
       "    .dataframe tbody tr th:only-of-type {\n",
       "        vertical-align: middle;\n",
       "    }\n",
       "\n",
       "    .dataframe tbody tr th {\n",
       "        vertical-align: top;\n",
       "    }\n",
       "\n",
       "    .dataframe thead th {\n",
       "        text-align: right;\n",
       "    }\n",
       "</style>\n",
       "<table border=\"1\" class=\"dataframe\">\n",
       "  <thead>\n",
       "    <tr style=\"text-align: right;\">\n",
       "      <th></th>\n",
       "      <th></th>\n",
       "      <th>distance</th>\n",
       "    </tr>\n",
       "    <tr>\n",
       "      <th>study_1</th>\n",
       "      <th>same_study</th>\n",
       "      <th></th>\n",
       "    </tr>\n",
       "  </thead>\n",
       "  <tbody>\n",
       "    <tr>\n",
       "      <th rowspan=\"2\" valign=\"top\">E-MEXP-1635</th>\n",
       "      <th>False</th>\n",
       "      <td>765.760296</td>\n",
       "    </tr>\n",
       "    <tr>\n",
       "      <th>True</th>\n",
       "      <td>271.840392</td>\n",
       "    </tr>\n",
       "    <tr>\n",
       "      <th rowspan=\"2\" valign=\"top\">E-MEXP-3567</th>\n",
       "      <th>False</th>\n",
       "      <td>712.312811</td>\n",
       "    </tr>\n",
       "    <tr>\n",
       "      <th>True</th>\n",
       "      <td>236.301581</td>\n",
       "    </tr>\n",
       "    <tr>\n",
       "      <th>GSE10474</th>\n",
       "      <th>False</th>\n",
       "      <td>711.558517</td>\n",
       "    </tr>\n",
       "    <tr>\n",
       "      <th>...</th>\n",
       "      <th>...</th>\n",
       "      <td>...</td>\n",
       "    </tr>\n",
       "    <tr>\n",
       "      <th>SRP131775</th>\n",
       "      <th>True</th>\n",
       "      <td>557.522400</td>\n",
       "    </tr>\n",
       "    <tr>\n",
       "      <th rowspan=\"2\" valign=\"top\">SRP132709</th>\n",
       "      <th>False</th>\n",
       "      <td>881.381820</td>\n",
       "    </tr>\n",
       "    <tr>\n",
       "      <th>True</th>\n",
       "      <td>398.432836</td>\n",
       "    </tr>\n",
       "    <tr>\n",
       "      <th rowspan=\"2\" valign=\"top\">SRP136102</th>\n",
       "      <th>False</th>\n",
       "      <td>925.287968</td>\n",
       "    </tr>\n",
       "    <tr>\n",
       "      <th>True</th>\n",
       "      <td>383.804467</td>\n",
       "    </tr>\n",
       "  </tbody>\n",
       "</table>\n",
       "<p>174 rows × 1 columns</p>\n",
       "</div>"
      ],
      "text/plain": [
       "                          distance\n",
       "study_1     same_study            \n",
       "E-MEXP-1635 False       765.760296\n",
       "            True        271.840392\n",
       "E-MEXP-3567 False       712.312811\n",
       "            True        236.301581\n",
       "GSE10474    False       711.558517\n",
       "...                            ...\n",
       "SRP131775   True        557.522400\n",
       "SRP132709   False       881.381820\n",
       "            True        398.432836\n",
       "SRP136102   False       925.287968\n",
       "            True        383.804467\n",
       "\n",
       "[174 rows x 1 columns]"
      ]
     },
     "execution_count": 25,
     "metadata": {},
     "output_type": "execute_result"
    }
   ],
   "source": [
    "means_df"
   ]
  },
  {
   "cell_type": "code",
   "execution_count": 26,
   "metadata": {},
   "outputs": [
    {
     "data": {
      "text/html": [
       "<div>\n",
       "<style scoped>\n",
       "    .dataframe tbody tr th:only-of-type {\n",
       "        vertical-align: middle;\n",
       "    }\n",
       "\n",
       "    .dataframe tbody tr th {\n",
       "        vertical-align: top;\n",
       "    }\n",
       "\n",
       "    .dataframe thead tr th {\n",
       "        text-align: left;\n",
       "    }\n",
       "</style>\n",
       "<table border=\"1\" class=\"dataframe\">\n",
       "  <thead>\n",
       "    <tr>\n",
       "      <th></th>\n",
       "      <th>study_1</th>\n",
       "      <th colspan=\"2\" halign=\"left\">distance</th>\n",
       "    </tr>\n",
       "    <tr>\n",
       "      <th>same_study</th>\n",
       "      <th></th>\n",
       "      <th>False</th>\n",
       "      <th>True</th>\n",
       "    </tr>\n",
       "  </thead>\n",
       "  <tbody>\n",
       "    <tr>\n",
       "      <th>0</th>\n",
       "      <td>E-MEXP-1635</td>\n",
       "      <td>765.760296</td>\n",
       "      <td>271.840392</td>\n",
       "    </tr>\n",
       "    <tr>\n",
       "      <th>1</th>\n",
       "      <td>E-MEXP-3567</td>\n",
       "      <td>712.312811</td>\n",
       "      <td>236.301581</td>\n",
       "    </tr>\n",
       "    <tr>\n",
       "      <th>2</th>\n",
       "      <td>GSE10474</td>\n",
       "      <td>711.558517</td>\n",
       "      <td>366.519368</td>\n",
       "    </tr>\n",
       "    <tr>\n",
       "      <th>3</th>\n",
       "      <td>GSE112811</td>\n",
       "      <td>782.560576</td>\n",
       "      <td>276.264297</td>\n",
       "    </tr>\n",
       "    <tr>\n",
       "      <th>4</th>\n",
       "      <td>GSE11755</td>\n",
       "      <td>764.515454</td>\n",
       "      <td>520.893960</td>\n",
       "    </tr>\n",
       "  </tbody>\n",
       "</table>\n",
       "</div>"
      ],
      "text/plain": [
       "                study_1    distance            \n",
       "same_study                    False        True\n",
       "0           E-MEXP-1635  765.760296  271.840392\n",
       "1           E-MEXP-3567  712.312811  236.301581\n",
       "2              GSE10474  711.558517  366.519368\n",
       "3             GSE112811  782.560576  276.264297\n",
       "4              GSE11755  764.515454  520.893960"
      ]
     },
     "execution_count": 26,
     "metadata": {},
     "output_type": "execute_result"
    }
   ],
   "source": [
    "means_df = means_df.unstack(level='same_study')\n",
    "means_df = means_df.reset_index()\n",
    "means_df.head()"
   ]
  },
  {
   "cell_type": "code",
   "execution_count": 27,
   "metadata": {},
   "outputs": [
    {
     "data": {
      "text/html": [
       "<div>\n",
       "<style scoped>\n",
       "    .dataframe tbody tr th:only-of-type {\n",
       "        vertical-align: middle;\n",
       "    }\n",
       "\n",
       "    .dataframe tbody tr th {\n",
       "        vertical-align: top;\n",
       "    }\n",
       "\n",
       "    .dataframe thead th {\n",
       "        text-align: right;\n",
       "    }\n",
       "</style>\n",
       "<table border=\"1\" class=\"dataframe\">\n",
       "  <thead>\n",
       "    <tr style=\"text-align: right;\">\n",
       "      <th></th>\n",
       "      <th>study_name</th>\n",
       "      <th>distance_to_other</th>\n",
       "      <th>distance_to_same</th>\n",
       "      <th>difference</th>\n",
       "    </tr>\n",
       "  </thead>\n",
       "  <tbody>\n",
       "    <tr>\n",
       "      <th>0</th>\n",
       "      <td>E-MEXP-1635</td>\n",
       "      <td>765.760296</td>\n",
       "      <td>271.840392</td>\n",
       "      <td>493.919904</td>\n",
       "    </tr>\n",
       "    <tr>\n",
       "      <th>1</th>\n",
       "      <td>E-MEXP-3567</td>\n",
       "      <td>712.312811</td>\n",
       "      <td>236.301581</td>\n",
       "      <td>476.011230</td>\n",
       "    </tr>\n",
       "    <tr>\n",
       "      <th>2</th>\n",
       "      <td>GSE10474</td>\n",
       "      <td>711.558517</td>\n",
       "      <td>366.519368</td>\n",
       "      <td>345.039148</td>\n",
       "    </tr>\n",
       "    <tr>\n",
       "      <th>3</th>\n",
       "      <td>GSE112811</td>\n",
       "      <td>782.560576</td>\n",
       "      <td>276.264297</td>\n",
       "      <td>506.296279</td>\n",
       "    </tr>\n",
       "    <tr>\n",
       "      <th>4</th>\n",
       "      <td>GSE11755</td>\n",
       "      <td>764.515454</td>\n",
       "      <td>520.893960</td>\n",
       "      <td>243.621494</td>\n",
       "    </tr>\n",
       "  </tbody>\n",
       "</table>\n",
       "</div>"
      ],
      "text/plain": [
       "    study_name  distance_to_other  distance_to_same  difference\n",
       "0  E-MEXP-1635         765.760296        271.840392  493.919904\n",
       "1  E-MEXP-3567         712.312811        236.301581  476.011230\n",
       "2     GSE10474         711.558517        366.519368  345.039148\n",
       "3    GSE112811         782.560576        276.264297  506.296279\n",
       "4     GSE11755         764.515454        520.893960  243.621494"
      ]
     },
     "execution_count": 27,
     "metadata": {},
     "output_type": "execute_result"
    }
   ],
   "source": [
    "# Get rid of the multilevel confusion\n",
    "means_df.columns = means_df.columns.droplevel()\n",
    "\n",
    "means_df.columns = ['study_name', 'distance_to_other', 'distance_to_same']\n",
    "means_df['difference'] = means_df['distance_to_other'] - means_df['distance_to_same']\n",
    "means_df.head()"
   ]
  },
  {
   "cell_type": "code",
   "execution_count": 28,
   "metadata": {},
   "outputs": [
    {
     "data": {
      "image/png": "[encoded data removed]",
      "text/plain": [
       "<Figure size 640x480 with 1 Axes>"
      ]
     },
     "metadata": {},
     "output_type": "display_data"
    },
    {
     "data": {
      "text/plain": [
       "<ggplot: (8760003737116)>"
      ]
     },
     "execution_count": 28,
     "metadata": {},
     "output_type": "execute_result"
    }
   ],
   "source": [
    "plot = ggplot(means_df, aes(x='study_name', y='difference')) \n",
    "plot += geom_point()\n",
    "plot += ylab('out of study - in-study mean')\n",
    "plot"
   ]
  },
  {
   "cell_type": "code",
   "execution_count": 29,
   "metadata": {},
   "outputs": [
    {
     "data": {
      "text/html": [
       "<div>\n",
       "<style scoped>\n",
       "    .dataframe tbody tr th:only-of-type {\n",
       "        vertical-align: middle;\n",
       "    }\n",
       "\n",
       "    .dataframe tbody tr th {\n",
       "        vertical-align: top;\n",
       "    }\n",
       "\n",
       "    .dataframe thead th {\n",
       "        text-align: right;\n",
       "    }\n",
       "</style>\n",
       "<table border=\"1\" class=\"dataframe\">\n",
       "  <thead>\n",
       "    <tr style=\"text-align: right;\">\n",
       "      <th></th>\n",
       "      <th>study_name</th>\n",
       "      <th>distance_to_other</th>\n",
       "      <th>distance_to_same</th>\n",
       "      <th>difference</th>\n",
       "    </tr>\n",
       "  </thead>\n",
       "  <tbody>\n",
       "    <tr>\n",
       "      <th>38</th>\n",
       "      <td>GSE42834</td>\n",
       "      <td>1258.183384</td>\n",
       "      <td>1196.615115</td>\n",
       "      <td>61.568269</td>\n",
       "    </tr>\n",
       "    <tr>\n",
       "      <th>69</th>\n",
       "      <td>GSE83456</td>\n",
       "      <td>1258.809745</td>\n",
       "      <td>1190.250458</td>\n",
       "      <td>68.559288</td>\n",
       "    </tr>\n",
       "    <tr>\n",
       "      <th>35</th>\n",
       "      <td>GSE40553</td>\n",
       "      <td>1282.759755</td>\n",
       "      <td>1207.377101</td>\n",
       "      <td>75.382655</td>\n",
       "    </tr>\n",
       "    <tr>\n",
       "      <th>50</th>\n",
       "      <td>GSE58411</td>\n",
       "      <td>1279.166340</td>\n",
       "      <td>1172.460873</td>\n",
       "      <td>106.705466</td>\n",
       "    </tr>\n",
       "    <tr>\n",
       "      <th>57</th>\n",
       "      <td>GSE65336</td>\n",
       "      <td>740.683315</td>\n",
       "      <td>541.807507</td>\n",
       "      <td>198.875808</td>\n",
       "    </tr>\n",
       "    <tr>\n",
       "      <th>...</th>\n",
       "      <td>...</td>\n",
       "      <td>...</td>\n",
       "      <td>...</td>\n",
       "      <td>...</td>\n",
       "    </tr>\n",
       "    <tr>\n",
       "      <th>24</th>\n",
       "      <td>GSE32198</td>\n",
       "      <td>829.618095</td>\n",
       "      <td>273.870355</td>\n",
       "      <td>555.747739</td>\n",
       "    </tr>\n",
       "    <tr>\n",
       "      <th>82</th>\n",
       "      <td>SRP077975</td>\n",
       "      <td>810.351178</td>\n",
       "      <td>243.975919</td>\n",
       "      <td>566.375259</td>\n",
       "    </tr>\n",
       "    <tr>\n",
       "      <th>34</th>\n",
       "      <td>GSE40240</td>\n",
       "      <td>827.426752</td>\n",
       "      <td>250.637175</td>\n",
       "      <td>576.789577</td>\n",
       "    </tr>\n",
       "    <tr>\n",
       "      <th>37</th>\n",
       "      <td>GSE42305</td>\n",
       "      <td>899.691769</td>\n",
       "      <td>301.383412</td>\n",
       "      <td>598.308357</td>\n",
       "    </tr>\n",
       "    <tr>\n",
       "      <th>46</th>\n",
       "      <td>GSE5504</td>\n",
       "      <td>955.840193</td>\n",
       "      <td>285.987557</td>\n",
       "      <td>669.852635</td>\n",
       "    </tr>\n",
       "  </tbody>\n",
       "</table>\n",
       "<p>87 rows × 4 columns</p>\n",
       "</div>"
      ],
      "text/plain": [
       "   study_name  distance_to_other  distance_to_same  difference\n",
       "38   GSE42834        1258.183384       1196.615115   61.568269\n",
       "69   GSE83456        1258.809745       1190.250458   68.559288\n",
       "35   GSE40553        1282.759755       1207.377101   75.382655\n",
       "50   GSE58411        1279.166340       1172.460873  106.705466\n",
       "57   GSE65336         740.683315        541.807507  198.875808\n",
       "..        ...                ...               ...         ...\n",
       "24   GSE32198         829.618095        273.870355  555.747739\n",
       "82  SRP077975         810.351178        243.975919  566.375259\n",
       "34   GSE40240         827.426752        250.637175  576.789577\n",
       "37   GSE42305         899.691769        301.383412  598.308357\n",
       "46    GSE5504         955.840193        285.987557  669.852635\n",
       "\n",
       "[87 rows x 4 columns]"
      ]
     },
     "execution_count": 29,
     "metadata": {},
     "output_type": "execute_result"
    }
   ],
   "source": [
    "means_df.sort_values(by='difference')"
   ]
  },
  {
   "cell_type": "markdown",
   "metadata": {},
   "source": [
    "These results indicate that most of the data is behaving as expected (the distance between pairs of samples from different studies is less than the distance between pairs of samples within the same study).\n",
    "\n",
    "The outliers are mostly bead-chip, which makes sense (though they shouldn't be in the dataset and I'll need to look more closely at that later). The one exception is SRP049820 which is run on an Illumina Genome Analyzer II. Maybe it's due to the old tech?"
   ]
  },
  {
   "cell_type": "markdown",
   "metadata": {},
   "source": [
    "## Without BE Correction"
   ]
  },
  {
   "cell_type": "code",
   "execution_count": 30,
   "metadata": {},
   "outputs": [],
   "source": [
    "%reset -f\n",
    "# Calling reset because the notebook runs out of memory otherwise\n",
    "import json\n",
    "\n",
    "import matplotlib.pyplot as plt\n",
    "import numpy as np\n",
    "import pandas as pd\n",
    "import yaml\n",
    "from plotnine import *\n",
    "from sklearn.metrics.pairwise import euclidean_distances\n",
    "\n",
    "from saged import utils, datasets, models"
   ]
  },
  {
   "cell_type": "code",
   "execution_count": 31,
   "metadata": {},
   "outputs": [],
   "source": [
    "dataset_config_file = '../../dataset_configs/refinebio_labeled_dataset.yml'\n",
    "\n",
    "dataset_config_str = \"\"\"name: \"RefineBioMixedDataset\"\n",
    "compendium_path: \"../../data/subset_compendium.pkl\"\n",
    "metadata_path: \"../../data/aggregated_metadata.json\"\n",
    "label_path: \"../../data/sample_classifications.pkl\"\n",
    "\"\"\"\n",
    "dataset_config = yaml.safe_load(dataset_config_str)\n",
    "\n",
    "dataset_name = dataset_config.pop('name')                                   \n",
    "MixedDatasetClass = datasets.RefineBioMixedDataset                                \n",
    "\n",
    "all_data = MixedDatasetClass.from_config(**dataset_config)                                              "
   ]
  },
  {
   "cell_type": "code",
   "execution_count": 32,
   "metadata": {},
   "outputs": [],
   "source": [
    "# Correct for batch effects\n",
    "all_data = datasets.correct_batch_effects(all_data, 'limma')"
   ]
  },
  {
   "cell_type": "markdown",
   "metadata": {},
   "source": [
    "## Look for samples that are very similar to each other despite having different IDs"
   ]
  },
  {
   "cell_type": "code",
   "execution_count": 33,
   "metadata": {},
   "outputs": [
    {
     "data": {
      "text/plain": [
       "['E-MEXP-1635-04SE57HA300104',\n",
       " 'E-MEXP-1635-04SE58HA300104',\n",
       " 'E-MEXP-1635-04SE59HA300104',\n",
       " 'E-MEXP-1635-04SE60HA300104',\n",
       " 'E-MEXP-1635-04SE61HA300104']"
      ]
     },
     "execution_count": 33,
     "metadata": {},
     "output_type": "execute_result"
    }
   ],
   "source": [
    "sample_names = all_data.get_samples()\n",
    "assert len(sample_names) == len(set(sample_names))\n",
    "\n",
    "sample_names[:5]"
   ]
  },
  {
   "cell_type": "code",
   "execution_count": 34,
   "metadata": {},
   "outputs": [
    {
     "name": "stdout",
     "output_type": "stream",
     "text": [
      "10234\n",
      "(10234, 14634)\n"
     ]
    }
   ],
   "source": [
    "expression = all_data.get_all_data()\n",
    "print(len(sample_names))\n",
    "print(expression.shape)"
   ]
  },
  {
   "cell_type": "code",
   "execution_count": 35,
   "metadata": {},
   "outputs": [],
   "source": [
    "sample_distance_matrix = euclidean_distances(expression, expression)\n",
    "\n",
    "# This is unrelated to debugging the data, I'm just curious\n",
    "gene_distance_matrix = euclidean_distances(expression.T, expression.T)"
   ]
  },
  {
   "cell_type": "code",
   "execution_count": 36,
   "metadata": {},
   "outputs": [
    {
     "data": {
      "text/plain": [
       "(10234, 10234)"
      ]
     },
     "execution_count": 36,
     "metadata": {},
     "output_type": "execute_result"
    }
   ],
   "source": [
    "sample_distance_matrix.shape"
   ]
  },
  {
   "cell_type": "code",
   "execution_count": 37,
   "metadata": {},
   "outputs": [
    {
     "data": {
      "text/plain": [
       "array([[  0.        , 229.63496006, 191.61807908, ..., 291.17252304,\n",
       "        391.23556671, 393.19107406],\n",
       "       [229.63496006,   0.        , 205.46212241, ..., 272.1971383 ,\n",
       "        384.90951054, 386.81184478],\n",
       "       [191.61807908, 205.46212241,   0.        , ..., 288.72903712,\n",
       "        373.24591396, 375.06196845],\n",
       "       ...,\n",
       "       [291.17252304, 272.1971383 , 288.72903712, ...,   0.        ,\n",
       "        295.89958742, 300.01987743],\n",
       "       [391.23556671, 384.90951054, 373.24591396, ..., 295.89958742,\n",
       "          0.        ,  84.20189072],\n",
       "       [393.19107406, 386.81184478, 375.06196845, ..., 300.01987743,\n",
       "         84.20189072,   0.        ]])"
      ]
     },
     "execution_count": 37,
     "metadata": {},
     "output_type": "execute_result"
    }
   ],
   "source": [
    "sample_distance_matrix"
   ]
  },
  {
   "cell_type": "code",
   "execution_count": 38,
   "metadata": {},
   "outputs": [
    {
     "data": {
      "text/plain": [
       "10234"
      ]
     },
     "execution_count": 38,
     "metadata": {},
     "output_type": "execute_result"
    }
   ],
   "source": [
    "# See if there are any zero distances outside the diagonal\n",
    "num_zeros = 10234 * 10234 - np.count_nonzero(sample_distance_matrix)\n",
    "num_zeros"
   ]
  },
  {
   "cell_type": "markdown",
   "metadata": {},
   "source": [
    "Since there are as many zeros as elements in the diagonal, there are no duplicate samples with different IDs (unless noise was added somewhere)"
   ]
  },
  {
   "cell_type": "markdown",
   "metadata": {},
   "source": [
    "### Get all distances\n",
    "Because we know there aren't any zeros outside of the diagonal, we can zero out the lower diagonal and use the the non-zero entries of the upper diagonal to visualize the distance distribution"
   ]
  },
  {
   "cell_type": "code",
   "execution_count": 39,
   "metadata": {},
   "outputs": [
    {
     "data": {
      "text/plain": [
       "array([[  0.        , 229.63496006, 191.61807908, ..., 291.17252304,\n",
       "        391.23556671, 393.19107406],\n",
       "       [  0.        ,   0.        , 205.46212241, ..., 272.1971383 ,\n",
       "        384.90951054, 386.81184478],\n",
       "       [  0.        ,   0.        ,   0.        , ..., 288.72903712,\n",
       "        373.24591396, 375.06196845],\n",
       "       ...,\n",
       "       [  0.        ,   0.        ,   0.        , ...,   0.        ,\n",
       "        295.89958742, 300.01987743],\n",
       "       [  0.        ,   0.        ,   0.        , ...,   0.        ,\n",
       "          0.        ,  84.20189072],\n",
       "       [  0.        ,   0.        ,   0.        , ...,   0.        ,\n",
       "          0.        ,   0.        ]])"
      ]
     },
     "execution_count": 39,
     "metadata": {},
     "output_type": "execute_result"
    }
   ],
   "source": [
    "triangle = np.triu(sample_distance_matrix, k=0)\n",
    "triangle"
   ]
  },
  {
   "cell_type": "code",
   "execution_count": 40,
   "metadata": {},
   "outputs": [
    {
     "data": {
      "text/plain": [
       "(52362261,)"
      ]
     },
     "execution_count": 40,
     "metadata": {},
     "output_type": "execute_result"
    }
   ],
   "source": [
    "distances = triangle.flatten()\n",
    "nonzero_distances = distances[distances != 0]\n",
    "nonzero_distances.shape"
   ]
  },
  {
   "cell_type": "code",
   "execution_count": 41,
   "metadata": {},
   "outputs": [
    {
     "data": {
      "text/plain": [
       "(array([9.0200000e+02, 1.5050000e+03, 5.1204900e+05, 7.2346100e+06,\n",
       "        1.4635621e+07, 1.2535299e+07, 6.8178180e+06, 3.0295720e+06,\n",
       "        1.2840650e+06, 6.0985900e+05, 2.7789800e+05, 2.3757600e+05,\n",
       "        3.2737860e+06, 1.5276080e+06, 2.0169700e+05, 3.9350000e+04,\n",
       "        3.1289000e+04, 8.6928000e+04, 2.4578000e+04, 2.5100000e+02]),\n",
       " array([7.93717650e-02, 6.84759416e+01, 1.36872511e+02, 2.05269081e+02,\n",
       "        2.73665651e+02, 3.42062221e+02, 4.10458791e+02, 4.78855361e+02,\n",
       "        5.47251930e+02, 6.15648500e+02, 6.84045070e+02, 7.52441640e+02,\n",
       "        8.20838210e+02, 8.89234779e+02, 9.57631349e+02, 1.02602792e+03,\n",
       "        1.09442449e+03, 1.16282106e+03, 1.23121763e+03, 1.29961420e+03,\n",
       "        1.36801077e+03]),\n",
       " <BarContainer object of 20 artists>)"
      ]
     },
     "execution_count": 41,
     "metadata": {},
     "output_type": "execute_result"
    },
    {
     "data": {
      "image/png": "[encoded data removed]",
      "text/plain": [
       "<Figure size 432x288 with 1 Axes>"
      ]
     },
     "metadata": {
      "needs_background": "light"
     },
     "output_type": "display_data"
    }
   ],
   "source": [
    "plt.hist(nonzero_distances, bins=20)"
   ]
  },
  {
   "cell_type": "markdown",
   "metadata": {},
   "source": [
    "Distribution looks bimodal, probably due to different platforms having different distances from each other?"
   ]
  },
  {
   "cell_type": "code",
   "execution_count": 42,
   "metadata": {},
   "outputs": [
    {
     "data": {
      "text/plain": [
       "(array([3.72000e+02, 9.60000e+01, 3.13000e+02, 2.11000e+02, 3.19000e+02,\n",
       "        2.49000e+02, 1.20300e+03, 9.97300e+03, 6.62850e+04, 2.87201e+05]),\n",
       " array([7.93717650e-02, 2.00714320e+01, 4.00634923e+01, 6.00555526e+01,\n",
       "        8.00476129e+01, 1.00039673e+02, 1.20031733e+02, 1.40023794e+02,\n",
       "        1.60015854e+02, 1.80007914e+02, 1.99999975e+02]),\n",
       " <BarContainer object of 10 artists>)"
      ]
     },
     "execution_count": 42,
     "metadata": {},
     "output_type": "execute_result"
    },
    {
     "data": {
      "image/png": "[encoded data removed]",
      "text/plain": [
       "<Figure size 432x288 with 1 Axes>"
      ]
     },
     "metadata": {
      "needs_background": "light"
     },
     "output_type": "display_data"
    }
   ],
   "source": [
    "plt.hist(nonzero_distances[nonzero_distances < 200])"
   ]
  },
  {
   "cell_type": "code",
   "execution_count": 43,
   "metadata": {},
   "outputs": [
    {
     "data": {
      "text/plain": [
       "(array([  6., 365.,  72.,  25.,   8., 305., 125.,  86.,  94., 224.]),\n",
       " array([7.93717650e-02, 1.00591487e+01, 2.00389257e+01, 3.00187026e+01,\n",
       "        3.99984796e+01, 4.99782565e+01, 5.99580334e+01, 6.99378104e+01,\n",
       "        7.99175873e+01, 8.98973643e+01, 9.98771412e+01]),\n",
       " <BarContainer object of 10 artists>)"
      ]
     },
     "execution_count": 43,
     "metadata": {},
     "output_type": "execute_result"
    },
    {
     "data": {
      "image/png": "[encoded data removed]",
      "text/plain": [
       "<Figure size 432x288 with 1 Axes>"
      ]
     },
     "metadata": {
      "needs_background": "light"
     },
     "output_type": "display_data"
    }
   ],
   "source": [
    "plt.hist(nonzero_distances[nonzero_distances < 100])"
   ]
  },
  {
   "cell_type": "markdown",
   "metadata": {},
   "source": [
    "Looks like there may be some samples that are abnormally close to each other. I wonder whether they're in the same study"
   ]
  },
  {
   "cell_type": "markdown",
   "metadata": {},
   "source": [
    "## Correspondence between distance and study"
   ]
  },
  {
   "cell_type": "code",
   "execution_count": 44,
   "metadata": {},
   "outputs": [],
   "source": [
    "# There is almost certainly a vectorized way of doing this but oh well\n",
    "distances = []\n",
    "first_samples = []\n",
    "second_samples = []\n",
    "\n",
    "for row_index in range(sample_distance_matrix.shape[0]):\n",
    "    for col_index in range(sample_distance_matrix.shape[0]):\n",
    "        distance = sample_distance_matrix[row_index, col_index]\n",
    "        if distance == 0:\n",
    "            continue\n",
    "        distances.append(distance)\n",
    "        first_samples.append(sample_names[row_index])\n",
    "        second_samples.append(sample_names[col_index])"
   ]
  },
  {
   "cell_type": "code",
   "execution_count": 45,
   "metadata": {},
   "outputs": [],
   "source": [
    "distance_df = pd.DataFrame({'distance': distances, 'sample_1': first_samples,\n",
    "                            'sample_2': second_samples})"
   ]
  },
  {
   "cell_type": "code",
   "execution_count": 46,
   "metadata": {},
   "outputs": [],
   "source": [
    "# Free up memory to prevent swapping (probably hopeless if the user has < 32GB)\n",
    "del(triangle)\n",
    "del(sample_distance_matrix)\n",
    "del(distances)\n",
    "del(first_samples)\n",
    "del(second_samples)\n",
    "del(nonzero_distances)"
   ]
  },
  {
   "cell_type": "code",
   "execution_count": 47,
   "metadata": {},
   "outputs": [
    {
     "data": {
      "text/html": [
       "<div>\n",
       "<style scoped>\n",
       "    .dataframe tbody tr th:only-of-type {\n",
       "        vertical-align: middle;\n",
       "    }\n",
       "\n",
       "    .dataframe tbody tr th {\n",
       "        vertical-align: top;\n",
       "    }\n",
       "\n",
       "    .dataframe thead th {\n",
       "        text-align: right;\n",
       "    }\n",
       "</style>\n",
       "<table border=\"1\" class=\"dataframe\">\n",
       "  <thead>\n",
       "    <tr style=\"text-align: right;\">\n",
       "      <th></th>\n",
       "      <th>distance</th>\n",
       "      <th>sample_1</th>\n",
       "      <th>sample_2</th>\n",
       "    </tr>\n",
       "  </thead>\n",
       "  <tbody>\n",
       "    <tr>\n",
       "      <th>0</th>\n",
       "      <td>229.634960</td>\n",
       "      <td>E-MEXP-1635-04SE57HA300104</td>\n",
       "      <td>E-MEXP-1635-04SE58HA300104</td>\n",
       "    </tr>\n",
       "    <tr>\n",
       "      <th>1</th>\n",
       "      <td>191.618079</td>\n",
       "      <td>E-MEXP-1635-04SE57HA300104</td>\n",
       "      <td>E-MEXP-1635-04SE59HA300104</td>\n",
       "    </tr>\n",
       "    <tr>\n",
       "      <th>2</th>\n",
       "      <td>206.978541</td>\n",
       "      <td>E-MEXP-1635-04SE57HA300104</td>\n",
       "      <td>E-MEXP-1635-04SE60HA300104</td>\n",
       "    </tr>\n",
       "    <tr>\n",
       "      <th>3</th>\n",
       "      <td>240.195692</td>\n",
       "      <td>E-MEXP-1635-04SE57HA300104</td>\n",
       "      <td>E-MEXP-1635-04SE61HA300104</td>\n",
       "    </tr>\n",
       "    <tr>\n",
       "      <th>4</th>\n",
       "      <td>271.821417</td>\n",
       "      <td>E-MEXP-1635-04SE57HA300104</td>\n",
       "      <td>E-MEXP-1635-04SE62HA300104</td>\n",
       "    </tr>\n",
       "    <tr>\n",
       "      <th>...</th>\n",
       "      <td>...</td>\n",
       "      <td>...</td>\n",
       "      <td>...</td>\n",
       "    </tr>\n",
       "    <tr>\n",
       "      <th>104724517</th>\n",
       "      <td>411.460941</td>\n",
       "      <td>SRR6870402</td>\n",
       "      <td>SRR6870397</td>\n",
       "    </tr>\n",
       "    <tr>\n",
       "      <th>104724518</th>\n",
       "      <td>407.601098</td>\n",
       "      <td>SRR6870402</td>\n",
       "      <td>SRR6870398</td>\n",
       "    </tr>\n",
       "    <tr>\n",
       "      <th>104724519</th>\n",
       "      <td>301.214339</td>\n",
       "      <td>SRR6870402</td>\n",
       "      <td>SRR6870399</td>\n",
       "    </tr>\n",
       "    <tr>\n",
       "      <th>104724520</th>\n",
       "      <td>300.019877</td>\n",
       "      <td>SRR6870402</td>\n",
       "      <td>SRR6870400</td>\n",
       "    </tr>\n",
       "    <tr>\n",
       "      <th>104724521</th>\n",
       "      <td>84.201891</td>\n",
       "      <td>SRR6870402</td>\n",
       "      <td>SRR6870401</td>\n",
       "    </tr>\n",
       "  </tbody>\n",
       "</table>\n",
       "<p>104724522 rows × 3 columns</p>\n",
       "</div>"
      ],
      "text/plain": [
       "             distance                    sample_1                    sample_2\n",
       "0          229.634960  E-MEXP-1635-04SE57HA300104  E-MEXP-1635-04SE58HA300104\n",
       "1          191.618079  E-MEXP-1635-04SE57HA300104  E-MEXP-1635-04SE59HA300104\n",
       "2          206.978541  E-MEXP-1635-04SE57HA300104  E-MEXP-1635-04SE60HA300104\n",
       "3          240.195692  E-MEXP-1635-04SE57HA300104  E-MEXP-1635-04SE61HA300104\n",
       "4          271.821417  E-MEXP-1635-04SE57HA300104  E-MEXP-1635-04SE62HA300104\n",
       "...               ...                         ...                         ...\n",
       "104724517  411.460941                  SRR6870402                  SRR6870397\n",
       "104724518  407.601098                  SRR6870402                  SRR6870398\n",
       "104724519  301.214339                  SRR6870402                  SRR6870399\n",
       "104724520  300.019877                  SRR6870402                  SRR6870400\n",
       "104724521   84.201891                  SRR6870402                  SRR6870401\n",
       "\n",
       "[104724522 rows x 3 columns]"
      ]
     },
     "execution_count": 47,
     "metadata": {},
     "output_type": "execute_result"
    }
   ],
   "source": [
    "distance_df"
   ]
  },
  {
   "cell_type": "code",
   "execution_count": 48,
   "metadata": {},
   "outputs": [],
   "source": [
    "sample_to_study = all_data.sample_to_study"
   ]
  },
  {
   "cell_type": "code",
   "execution_count": 49,
   "metadata": {},
   "outputs": [],
   "source": [
    "del(all_data)"
   ]
  },
  {
   "cell_type": "code",
   "execution_count": 50,
   "metadata": {},
   "outputs": [],
   "source": [
    "distance_df['study_1'] = distance_df['sample_1'].map(sample_to_study)\n",
    "distance_df['study_2'] = distance_df['sample_2'].map(sample_to_study)\n",
    "distance_df['same_study'] = distance_df['study_1'] == distance_df['study_2']"
   ]
  },
  {
   "cell_type": "code",
   "execution_count": 51,
   "metadata": {},
   "outputs": [
    {
     "data": {
      "text/html": [
       "<div>\n",
       "<style scoped>\n",
       "    .dataframe tbody tr th:only-of-type {\n",
       "        vertical-align: middle;\n",
       "    }\n",
       "\n",
       "    .dataframe tbody tr th {\n",
       "        vertical-align: top;\n",
       "    }\n",
       "\n",
       "    .dataframe thead th {\n",
       "        text-align: right;\n",
       "    }\n",
       "</style>\n",
       "<table border=\"1\" class=\"dataframe\">\n",
       "  <thead>\n",
       "    <tr style=\"text-align: right;\">\n",
       "      <th></th>\n",
       "      <th>distance</th>\n",
       "      <th>sample_1</th>\n",
       "      <th>sample_2</th>\n",
       "      <th>study_1</th>\n",
       "      <th>study_2</th>\n",
       "      <th>same_study</th>\n",
       "    </tr>\n",
       "  </thead>\n",
       "  <tbody>\n",
       "    <tr>\n",
       "      <th>0</th>\n",
       "      <td>229.634960</td>\n",
       "      <td>E-MEXP-1635-04SE57HA300104</td>\n",
       "      <td>E-MEXP-1635-04SE58HA300104</td>\n",
       "      <td>E-MEXP-1635</td>\n",
       "      <td>E-MEXP-1635</td>\n",
       "      <td>True</td>\n",
       "    </tr>\n",
       "    <tr>\n",
       "      <th>1</th>\n",
       "      <td>191.618079</td>\n",
       "      <td>E-MEXP-1635-04SE57HA300104</td>\n",
       "      <td>E-MEXP-1635-04SE59HA300104</td>\n",
       "      <td>E-MEXP-1635</td>\n",
       "      <td>E-MEXP-1635</td>\n",
       "      <td>True</td>\n",
       "    </tr>\n",
       "    <tr>\n",
       "      <th>2</th>\n",
       "      <td>206.978541</td>\n",
       "      <td>E-MEXP-1635-04SE57HA300104</td>\n",
       "      <td>E-MEXP-1635-04SE60HA300104</td>\n",
       "      <td>E-MEXP-1635</td>\n",
       "      <td>E-MEXP-1635</td>\n",
       "      <td>True</td>\n",
       "    </tr>\n",
       "    <tr>\n",
       "      <th>3</th>\n",
       "      <td>240.195692</td>\n",
       "      <td>E-MEXP-1635-04SE57HA300104</td>\n",
       "      <td>E-MEXP-1635-04SE61HA300104</td>\n",
       "      <td>E-MEXP-1635</td>\n",
       "      <td>E-MEXP-1635</td>\n",
       "      <td>True</td>\n",
       "    </tr>\n",
       "    <tr>\n",
       "      <th>4</th>\n",
       "      <td>271.821417</td>\n",
       "      <td>E-MEXP-1635-04SE57HA300104</td>\n",
       "      <td>E-MEXP-1635-04SE62HA300104</td>\n",
       "      <td>E-MEXP-1635</td>\n",
       "      <td>E-MEXP-1635</td>\n",
       "      <td>True</td>\n",
       "    </tr>\n",
       "  </tbody>\n",
       "</table>\n",
       "</div>"
      ],
      "text/plain": [
       "     distance                    sample_1                    sample_2  \\\n",
       "0  229.634960  E-MEXP-1635-04SE57HA300104  E-MEXP-1635-04SE58HA300104   \n",
       "1  191.618079  E-MEXP-1635-04SE57HA300104  E-MEXP-1635-04SE59HA300104   \n",
       "2  206.978541  E-MEXP-1635-04SE57HA300104  E-MEXP-1635-04SE60HA300104   \n",
       "3  240.195692  E-MEXP-1635-04SE57HA300104  E-MEXP-1635-04SE61HA300104   \n",
       "4  271.821417  E-MEXP-1635-04SE57HA300104  E-MEXP-1635-04SE62HA300104   \n",
       "\n",
       "       study_1      study_2  same_study  \n",
       "0  E-MEXP-1635  E-MEXP-1635        True  \n",
       "1  E-MEXP-1635  E-MEXP-1635        True  \n",
       "2  E-MEXP-1635  E-MEXP-1635        True  \n",
       "3  E-MEXP-1635  E-MEXP-1635        True  \n",
       "4  E-MEXP-1635  E-MEXP-1635        True  "
      ]
     },
     "execution_count": 51,
     "metadata": {},
     "output_type": "execute_result"
    }
   ],
   "source": [
    "distance_df.head()"
   ]
  },
  {
   "cell_type": "code",
   "execution_count": 52,
   "metadata": {},
   "outputs": [
    {
     "name": "stdout",
     "output_type": "stream",
     "text": [
      "104724522\n"
     ]
    }
   ],
   "source": [
    "print(len(distance_df))"
   ]
  },
  {
   "cell_type": "markdown",
   "metadata": {},
   "source": [
    "For some reason my computer didn't want me to make a figure with 50 million points. We'll work with means instead"
   ]
  },
  {
   "cell_type": "code",
   "execution_count": 53,
   "metadata": {},
   "outputs": [],
   "source": [
    "means_df = distance_df.groupby(['study_1', 'same_study']).mean()"
   ]
  },
  {
   "cell_type": "code",
   "execution_count": 54,
   "metadata": {},
   "outputs": [
    {
     "data": {
      "text/html": [
       "<div>\n",
       "<style scoped>\n",
       "    .dataframe tbody tr th:only-of-type {\n",
       "        vertical-align: middle;\n",
       "    }\n",
       "\n",
       "    .dataframe tbody tr th {\n",
       "        vertical-align: top;\n",
       "    }\n",
       "\n",
       "    .dataframe thead th {\n",
       "        text-align: right;\n",
       "    }\n",
       "</style>\n",
       "<table border=\"1\" class=\"dataframe\">\n",
       "  <thead>\n",
       "    <tr style=\"text-align: right;\">\n",
       "      <th></th>\n",
       "      <th></th>\n",
       "      <th>distance</th>\n",
       "    </tr>\n",
       "    <tr>\n",
       "      <th>study_1</th>\n",
       "      <th>same_study</th>\n",
       "      <th></th>\n",
       "    </tr>\n",
       "  </thead>\n",
       "  <tbody>\n",
       "    <tr>\n",
       "      <th rowspan=\"2\" valign=\"top\">E-MEXP-1635</th>\n",
       "      <th>False</th>\n",
       "      <td>346.965554</td>\n",
       "    </tr>\n",
       "    <tr>\n",
       "      <th>True</th>\n",
       "      <td>271.840392</td>\n",
       "    </tr>\n",
       "    <tr>\n",
       "      <th rowspan=\"2\" valign=\"top\">E-MEXP-3567</th>\n",
       "      <th>False</th>\n",
       "      <td>317.573726</td>\n",
       "    </tr>\n",
       "    <tr>\n",
       "      <th>True</th>\n",
       "      <td>236.301581</td>\n",
       "    </tr>\n",
       "    <tr>\n",
       "      <th>GSE10474</th>\n",
       "      <th>False</th>\n",
       "      <td>390.363721</td>\n",
       "    </tr>\n",
       "    <tr>\n",
       "      <th>...</th>\n",
       "      <th>...</th>\n",
       "      <td>...</td>\n",
       "    </tr>\n",
       "    <tr>\n",
       "      <th>SRP131775</th>\n",
       "      <th>True</th>\n",
       "      <td>557.522400</td>\n",
       "    </tr>\n",
       "    <tr>\n",
       "      <th rowspan=\"2\" valign=\"top\">SRP132709</th>\n",
       "      <th>False</th>\n",
       "      <td>408.568393</td>\n",
       "    </tr>\n",
       "    <tr>\n",
       "      <th>True</th>\n",
       "      <td>398.432836</td>\n",
       "    </tr>\n",
       "    <tr>\n",
       "      <th rowspan=\"2\" valign=\"top\">SRP136102</th>\n",
       "      <th>False</th>\n",
       "      <td>402.495573</td>\n",
       "    </tr>\n",
       "    <tr>\n",
       "      <th>True</th>\n",
       "      <td>383.804467</td>\n",
       "    </tr>\n",
       "  </tbody>\n",
       "</table>\n",
       "<p>174 rows × 1 columns</p>\n",
       "</div>"
      ],
      "text/plain": [
       "                          distance\n",
       "study_1     same_study            \n",
       "E-MEXP-1635 False       346.965554\n",
       "            True        271.840392\n",
       "E-MEXP-3567 False       317.573726\n",
       "            True        236.301581\n",
       "GSE10474    False       390.363721\n",
       "...                            ...\n",
       "SRP131775   True        557.522400\n",
       "SRP132709   False       408.568393\n",
       "            True        398.432836\n",
       "SRP136102   False       402.495573\n",
       "            True        383.804467\n",
       "\n",
       "[174 rows x 1 columns]"
      ]
     },
     "execution_count": 54,
     "metadata": {},
     "output_type": "execute_result"
    }
   ],
   "source": [
    "means_df"
   ]
  },
  {
   "cell_type": "code",
   "execution_count": 55,
   "metadata": {},
   "outputs": [
    {
     "data": {
      "text/html": [
       "<div>\n",
       "<style scoped>\n",
       "    .dataframe tbody tr th:only-of-type {\n",
       "        vertical-align: middle;\n",
       "    }\n",
       "\n",
       "    .dataframe tbody tr th {\n",
       "        vertical-align: top;\n",
       "    }\n",
       "\n",
       "    .dataframe thead tr th {\n",
       "        text-align: left;\n",
       "    }\n",
       "</style>\n",
       "<table border=\"1\" class=\"dataframe\">\n",
       "  <thead>\n",
       "    <tr>\n",
       "      <th></th>\n",
       "      <th>study_1</th>\n",
       "      <th colspan=\"2\" halign=\"left\">distance</th>\n",
       "    </tr>\n",
       "    <tr>\n",
       "      <th>same_study</th>\n",
       "      <th></th>\n",
       "      <th>False</th>\n",
       "      <th>True</th>\n",
       "    </tr>\n",
       "  </thead>\n",
       "  <tbody>\n",
       "    <tr>\n",
       "      <th>0</th>\n",
       "      <td>E-MEXP-1635</td>\n",
       "      <td>346.965554</td>\n",
       "      <td>271.840392</td>\n",
       "    </tr>\n",
       "    <tr>\n",
       "      <th>1</th>\n",
       "      <td>E-MEXP-3567</td>\n",
       "      <td>317.573726</td>\n",
       "      <td>236.301581</td>\n",
       "    </tr>\n",
       "    <tr>\n",
       "      <th>2</th>\n",
       "      <td>GSE10474</td>\n",
       "      <td>390.363721</td>\n",
       "      <td>366.519368</td>\n",
       "    </tr>\n",
       "    <tr>\n",
       "      <th>3</th>\n",
       "      <td>GSE112811</td>\n",
       "      <td>350.365171</td>\n",
       "      <td>276.264297</td>\n",
       "    </tr>\n",
       "    <tr>\n",
       "      <th>4</th>\n",
       "      <td>GSE11755</td>\n",
       "      <td>481.884487</td>\n",
       "      <td>520.893960</td>\n",
       "    </tr>\n",
       "  </tbody>\n",
       "</table>\n",
       "</div>"
      ],
      "text/plain": [
       "                study_1    distance            \n",
       "same_study                    False        True\n",
       "0           E-MEXP-1635  346.965554  271.840392\n",
       "1           E-MEXP-3567  317.573726  236.301581\n",
       "2              GSE10474  390.363721  366.519368\n",
       "3             GSE112811  350.365171  276.264297\n",
       "4              GSE11755  481.884487  520.893960"
      ]
     },
     "execution_count": 55,
     "metadata": {},
     "output_type": "execute_result"
    }
   ],
   "source": [
    "means_df = means_df.unstack(level='same_study')\n",
    "means_df = means_df.reset_index()\n",
    "means_df.head()"
   ]
  },
  {
   "cell_type": "code",
   "execution_count": 56,
   "metadata": {},
   "outputs": [
    {
     "data": {
      "text/html": [
       "<div>\n",
       "<style scoped>\n",
       "    .dataframe tbody tr th:only-of-type {\n",
       "        vertical-align: middle;\n",
       "    }\n",
       "\n",
       "    .dataframe tbody tr th {\n",
       "        vertical-align: top;\n",
       "    }\n",
       "\n",
       "    .dataframe thead th {\n",
       "        text-align: right;\n",
       "    }\n",
       "</style>\n",
       "<table border=\"1\" class=\"dataframe\">\n",
       "  <thead>\n",
       "    <tr style=\"text-align: right;\">\n",
       "      <th></th>\n",
       "      <th>study_name</th>\n",
       "      <th>distance_to_other</th>\n",
       "      <th>distance_to_same</th>\n",
       "      <th>difference</th>\n",
       "    </tr>\n",
       "  </thead>\n",
       "  <tbody>\n",
       "    <tr>\n",
       "      <th>0</th>\n",
       "      <td>E-MEXP-1635</td>\n",
       "      <td>346.965554</td>\n",
       "      <td>271.840392</td>\n",
       "      <td>75.125163</td>\n",
       "    </tr>\n",
       "    <tr>\n",
       "      <th>1</th>\n",
       "      <td>E-MEXP-3567</td>\n",
       "      <td>317.573726</td>\n",
       "      <td>236.301581</td>\n",
       "      <td>81.272145</td>\n",
       "    </tr>\n",
       "    <tr>\n",
       "      <th>2</th>\n",
       "      <td>GSE10474</td>\n",
       "      <td>390.363721</td>\n",
       "      <td>366.519368</td>\n",
       "      <td>23.844353</td>\n",
       "    </tr>\n",
       "    <tr>\n",
       "      <th>3</th>\n",
       "      <td>GSE112811</td>\n",
       "      <td>350.365171</td>\n",
       "      <td>276.264297</td>\n",
       "      <td>74.100874</td>\n",
       "    </tr>\n",
       "    <tr>\n",
       "      <th>4</th>\n",
       "      <td>GSE11755</td>\n",
       "      <td>481.884487</td>\n",
       "      <td>520.893960</td>\n",
       "      <td>-39.009473</td>\n",
       "    </tr>\n",
       "  </tbody>\n",
       "</table>\n",
       "</div>"
      ],
      "text/plain": [
       "    study_name  distance_to_other  distance_to_same  difference\n",
       "0  E-MEXP-1635         346.965554        271.840392   75.125163\n",
       "1  E-MEXP-3567         317.573726        236.301581   81.272145\n",
       "2     GSE10474         390.363721        366.519368   23.844353\n",
       "3    GSE112811         350.365171        276.264297   74.100874\n",
       "4     GSE11755         481.884487        520.893960  -39.009473"
      ]
     },
     "execution_count": 56,
     "metadata": {},
     "output_type": "execute_result"
    }
   ],
   "source": [
    "# Get rid of the multilevel confusion\n",
    "means_df.columns = means_df.columns.droplevel()\n",
    "\n",
    "means_df.columns = ['study_name', 'distance_to_other', 'distance_to_same']\n",
    "means_df['difference'] = means_df['distance_to_other'] - means_df['distance_to_same']\n",
    "means_df.head()"
   ]
  },
  {
   "cell_type": "code",
   "execution_count": 57,
   "metadata": {},
   "outputs": [
    {
     "data": {
      "image/png": "[encoded data removed]",
      "text/plain": [
       "<Figure size 640x480 with 1 Axes>"
      ]
     },
     "metadata": {},
     "output_type": "display_data"
    },
    {
     "data": {
      "text/plain": [
       "<ggplot: (8760208716840)>"
      ]
     },
     "execution_count": 57,
     "metadata": {},
     "output_type": "execute_result"
    }
   ],
   "source": [
    "plot = ggplot(means_df, aes(x='study_name', y='difference')) \n",
    "plot += geom_point()\n",
    "plot += ylab('out of study - in-study mean')\n",
    "plot"
   ]
  },
  {
   "cell_type": "code",
   "execution_count": 58,
   "metadata": {},
   "outputs": [
    {
     "data": {
      "text/html": [
       "<div>\n",
       "<style scoped>\n",
       "    .dataframe tbody tr th:only-of-type {\n",
       "        vertical-align: middle;\n",
       "    }\n",
       "\n",
       "    .dataframe tbody tr th {\n",
       "        vertical-align: top;\n",
       "    }\n",
       "\n",
       "    .dataframe thead th {\n",
       "        text-align: right;\n",
       "    }\n",
       "</style>\n",
       "<table border=\"1\" class=\"dataframe\">\n",
       "  <thead>\n",
       "    <tr style=\"text-align: right;\">\n",
       "      <th></th>\n",
       "      <th>study_name</th>\n",
       "      <th>distance_to_other</th>\n",
       "      <th>distance_to_same</th>\n",
       "      <th>difference</th>\n",
       "    </tr>\n",
       "  </thead>\n",
       "  <tbody>\n",
       "    <tr>\n",
       "      <th>38</th>\n",
       "      <td>GSE42834</td>\n",
       "      <td>877.009616</td>\n",
       "      <td>1196.615115</td>\n",
       "      <td>-319.605499</td>\n",
       "    </tr>\n",
       "    <tr>\n",
       "      <th>35</th>\n",
       "      <td>GSE40553</td>\n",
       "      <td>901.551269</td>\n",
       "      <td>1207.377101</td>\n",
       "      <td>-305.825832</td>\n",
       "    </tr>\n",
       "    <tr>\n",
       "      <th>69</th>\n",
       "      <td>GSE83456</td>\n",
       "      <td>891.123738</td>\n",
       "      <td>1190.250458</td>\n",
       "      <td>-299.126720</td>\n",
       "    </tr>\n",
       "    <tr>\n",
       "      <th>50</th>\n",
       "      <td>GSE58411</td>\n",
       "      <td>880.542332</td>\n",
       "      <td>1172.460873</td>\n",
       "      <td>-291.918541</td>\n",
       "    </tr>\n",
       "    <tr>\n",
       "      <th>80</th>\n",
       "      <td>SRP049820</td>\n",
       "      <td>602.853087</td>\n",
       "      <td>744.992813</td>\n",
       "      <td>-142.139726</td>\n",
       "    </tr>\n",
       "    <tr>\n",
       "      <th>...</th>\n",
       "      <td>...</td>\n",
       "      <td>...</td>\n",
       "      <td>...</td>\n",
       "      <td>...</td>\n",
       "    </tr>\n",
       "    <tr>\n",
       "      <th>41</th>\n",
       "      <td>GSE45923</td>\n",
       "      <td>336.665715</td>\n",
       "      <td>244.603096</td>\n",
       "      <td>92.062619</td>\n",
       "    </tr>\n",
       "    <tr>\n",
       "      <th>82</th>\n",
       "      <td>SRP077975</td>\n",
       "      <td>336.233798</td>\n",
       "      <td>243.975919</td>\n",
       "      <td>92.257879</td>\n",
       "    </tr>\n",
       "    <tr>\n",
       "      <th>15</th>\n",
       "      <td>GSE21592</td>\n",
       "      <td>329.633644</td>\n",
       "      <td>230.418254</td>\n",
       "      <td>99.215390</td>\n",
       "    </tr>\n",
       "    <tr>\n",
       "      <th>9</th>\n",
       "      <td>GSE14844</td>\n",
       "      <td>332.476449</td>\n",
       "      <td>232.749692</td>\n",
       "      <td>99.726757</td>\n",
       "    </tr>\n",
       "    <tr>\n",
       "      <th>47</th>\n",
       "      <td>GSE55201</td>\n",
       "      <td>322.071044</td>\n",
       "      <td>202.855416</td>\n",
       "      <td>119.215628</td>\n",
       "    </tr>\n",
       "  </tbody>\n",
       "</table>\n",
       "<p>87 rows × 4 columns</p>\n",
       "</div>"
      ],
      "text/plain": [
       "   study_name  distance_to_other  distance_to_same  difference\n",
       "38   GSE42834         877.009616       1196.615115 -319.605499\n",
       "35   GSE40553         901.551269       1207.377101 -305.825832\n",
       "69   GSE83456         891.123738       1190.250458 -299.126720\n",
       "50   GSE58411         880.542332       1172.460873 -291.918541\n",
       "80  SRP049820         602.853087        744.992813 -142.139726\n",
       "..        ...                ...               ...         ...\n",
       "41   GSE45923         336.665715        244.603096   92.062619\n",
       "82  SRP077975         336.233798        243.975919   92.257879\n",
       "15   GSE21592         329.633644        230.418254   99.215390\n",
       "9    GSE14844         332.476449        232.749692   99.726757\n",
       "47   GSE55201         322.071044        202.855416  119.215628\n",
       "\n",
       "[87 rows x 4 columns]"
      ]
     },
     "execution_count": 58,
     "metadata": {},
     "output_type": "execute_result"
    }
   ],
   "source": [
    "means_df.sort_values(by='difference')"
   ]
  },
  {
   "cell_type": "markdown",
   "metadata": {},
   "source": [
    "These results indicate that most of the data is behaving as expected (the distance between pairs of samples from different studies is less than the distance between pairs of samples within the same study).\n",
    "\n",
    "The outliers are mostly bead-chip, which makes sense (though they shouldn't be in the dataset and I'll need to look more closely at that later). The one exception is SRP049820 which is run on an Illumina Genome Analyzer II. Maybe it's due to the old tech?"
   ]
  }
 ],
 "metadata": {
  "kernelspec": {
   "display_name": "Python 3",
   "language": "python",
   "name": "python3"
  },
  "language_info": {
   "codemirror_mode": {
    "name": "ipython",
    "version": 3
   },
   "file_extension": ".py",
   "mimetype": "text/x-python",
   "name": "python",
   "nbconvert_exporter": "python",
   "pygments_lexer": "ipython3",
   "version": "3.8.3"
  }
 },
 "nbformat": 4,
 "nbformat_minor": 2
}
